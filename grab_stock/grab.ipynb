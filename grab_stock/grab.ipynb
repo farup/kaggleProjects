{
 "cells": [
  {
   "cell_type": "code",
   "execution_count": 90,
   "metadata": {},
   "outputs": [],
   "source": [
    "import numpy as np\n",
    "import pandas as pd\n",
    "import seaborn as sns \n",
    "import matplotlib.pyplot as plt\n",
    "import os\n",
    "from sklearn import preprocessing"
   ]
  },
  {
   "cell_type": "code",
   "execution_count": 91,
   "metadata": {},
   "outputs": [
    {
     "data": {
      "text/html": [
       "<div>\n",
       "<style scoped>\n",
       "    .dataframe tbody tr th:only-of-type {\n",
       "        vertical-align: middle;\n",
       "    }\n",
       "\n",
       "    .dataframe tbody tr th {\n",
       "        vertical-align: top;\n",
       "    }\n",
       "\n",
       "    .dataframe thead th {\n",
       "        text-align: right;\n",
       "    }\n",
       "</style>\n",
       "<table border=\"1\" class=\"dataframe\">\n",
       "  <thead>\n",
       "    <tr style=\"text-align: right;\">\n",
       "      <th></th>\n",
       "      <th>Date</th>\n",
       "      <th>Open</th>\n",
       "      <th>High</th>\n",
       "      <th>Low</th>\n",
       "      <th>Close</th>\n",
       "      <th>Adj Close</th>\n",
       "      <th>Volume</th>\n",
       "    </tr>\n",
       "  </thead>\n",
       "  <tbody>\n",
       "    <tr>\n",
       "      <th>0</th>\n",
       "      <td>2021-12-01</td>\n",
       "      <td>13.595</td>\n",
       "      <td>13.63</td>\n",
       "      <td>11.01</td>\n",
       "      <td>11.01</td>\n",
       "      <td>11.01</td>\n",
       "      <td>8964400</td>\n",
       "    </tr>\n",
       "    <tr>\n",
       "      <th>1</th>\n",
       "      <td>2021-12-02</td>\n",
       "      <td>13.055</td>\n",
       "      <td>13.29</td>\n",
       "      <td>8.13</td>\n",
       "      <td>8.75</td>\n",
       "      <td>8.75</td>\n",
       "      <td>35751200</td>\n",
       "    </tr>\n",
       "    <tr>\n",
       "      <th>2</th>\n",
       "      <td>2021-12-03</td>\n",
       "      <td>9.160</td>\n",
       "      <td>9.52</td>\n",
       "      <td>8.45</td>\n",
       "      <td>8.99</td>\n",
       "      <td>8.99</td>\n",
       "      <td>29667200</td>\n",
       "    </tr>\n",
       "    <tr>\n",
       "      <th>3</th>\n",
       "      <td>2021-12-06</td>\n",
       "      <td>8.950</td>\n",
       "      <td>9.10</td>\n",
       "      <td>8.23</td>\n",
       "      <td>9.00</td>\n",
       "      <td>9.00</td>\n",
       "      <td>25416000</td>\n",
       "    </tr>\n",
       "    <tr>\n",
       "      <th>4</th>\n",
       "      <td>2021-12-07</td>\n",
       "      <td>9.055</td>\n",
       "      <td>9.06</td>\n",
       "      <td>8.32</td>\n",
       "      <td>8.85</td>\n",
       "      <td>8.85</td>\n",
       "      <td>25775900</td>\n",
       "    </tr>\n",
       "  </tbody>\n",
       "</table>\n",
       "</div>"
      ],
      "text/plain": [
       "         Date    Open   High    Low  Close  Adj Close    Volume\n",
       "0  2021-12-01  13.595  13.63  11.01  11.01      11.01   8964400\n",
       "1  2021-12-02  13.055  13.29   8.13   8.75       8.75  35751200\n",
       "2  2021-12-03   9.160   9.52   8.45   8.99       8.99  29667200\n",
       "3  2021-12-06   8.950   9.10   8.23   9.00       9.00  25416000\n",
       "4  2021-12-07   9.055   9.06   8.32   8.85       8.85  25775900"
      ]
     },
     "execution_count": 91,
     "metadata": {},
     "output_type": "execute_result"
    }
   ],
   "source": [
    "df = pd.read_csv('GRAB.csv')\n",
    "df.head()"
   ]
  },
  {
   "cell_type": "code",
   "execution_count": 92,
   "metadata": {},
   "outputs": [
    {
     "data": {
      "text/html": [
       "<div>\n",
       "<style scoped>\n",
       "    .dataframe tbody tr th:only-of-type {\n",
       "        vertical-align: middle;\n",
       "    }\n",
       "\n",
       "    .dataframe tbody tr th {\n",
       "        vertical-align: top;\n",
       "    }\n",
       "\n",
       "    .dataframe thead th {\n",
       "        text-align: right;\n",
       "    }\n",
       "</style>\n",
       "<table border=\"1\" class=\"dataframe\">\n",
       "  <thead>\n",
       "    <tr style=\"text-align: right;\">\n",
       "      <th></th>\n",
       "      <th>Date</th>\n",
       "      <th>Close</th>\n",
       "    </tr>\n",
       "  </thead>\n",
       "  <tbody>\n",
       "    <tr>\n",
       "      <th>0</th>\n",
       "      <td>2021-12-01</td>\n",
       "      <td>11.01</td>\n",
       "    </tr>\n",
       "    <tr>\n",
       "      <th>1</th>\n",
       "      <td>2021-12-02</td>\n",
       "      <td>8.75</td>\n",
       "    </tr>\n",
       "    <tr>\n",
       "      <th>2</th>\n",
       "      <td>2021-12-03</td>\n",
       "      <td>8.99</td>\n",
       "    </tr>\n",
       "    <tr>\n",
       "      <th>3</th>\n",
       "      <td>2021-12-06</td>\n",
       "      <td>9.00</td>\n",
       "    </tr>\n",
       "    <tr>\n",
       "      <th>4</th>\n",
       "      <td>2021-12-07</td>\n",
       "      <td>8.85</td>\n",
       "    </tr>\n",
       "    <tr>\n",
       "      <th>...</th>\n",
       "      <td>...</td>\n",
       "      <td>...</td>\n",
       "    </tr>\n",
       "    <tr>\n",
       "      <th>502</th>\n",
       "      <td>2023-11-30</td>\n",
       "      <td>3.04</td>\n",
       "    </tr>\n",
       "    <tr>\n",
       "      <th>503</th>\n",
       "      <td>2023-12-01</td>\n",
       "      <td>3.07</td>\n",
       "    </tr>\n",
       "    <tr>\n",
       "      <th>504</th>\n",
       "      <td>2023-12-04</td>\n",
       "      <td>3.15</td>\n",
       "    </tr>\n",
       "    <tr>\n",
       "      <th>505</th>\n",
       "      <td>2023-12-05</td>\n",
       "      <td>3.14</td>\n",
       "    </tr>\n",
       "    <tr>\n",
       "      <th>506</th>\n",
       "      <td>2023-12-06</td>\n",
       "      <td>3.09</td>\n",
       "    </tr>\n",
       "  </tbody>\n",
       "</table>\n",
       "<p>507 rows × 2 columns</p>\n",
       "</div>"
      ],
      "text/plain": [
       "           Date  Close\n",
       "0    2021-12-01  11.01\n",
       "1    2021-12-02   8.75\n",
       "2    2021-12-03   8.99\n",
       "3    2021-12-06   9.00\n",
       "4    2021-12-07   8.85\n",
       "..          ...    ...\n",
       "502  2023-11-30   3.04\n",
       "503  2023-12-01   3.07\n",
       "504  2023-12-04   3.15\n",
       "505  2023-12-05   3.14\n",
       "506  2023-12-06   3.09\n",
       "\n",
       "[507 rows x 2 columns]"
      ]
     },
     "execution_count": 92,
     "metadata": {},
     "output_type": "execute_result"
    }
   ],
   "source": [
    "df = df[['Date', 'Close']]\n",
    "df"
   ]
  },
  {
   "cell_type": "code",
   "execution_count": 93,
   "metadata": {},
   "outputs": [],
   "source": [
    "import datetime \n",
    "\n",
    "def str_to_datetime(s): \n",
    "    split = s.split('-')\n",
    "    year, month, day = int(split[0]), int(split[1]), int(split[2])\n",
    "    return datetime.datetime(year=year, month=month, day=day)\n"
   ]
  },
  {
   "cell_type": "code",
   "execution_count": 94,
   "metadata": {},
   "outputs": [
    {
     "data": {
      "text/html": [
       "<div>\n",
       "<style scoped>\n",
       "    .dataframe tbody tr th:only-of-type {\n",
       "        vertical-align: middle;\n",
       "    }\n",
       "\n",
       "    .dataframe tbody tr th {\n",
       "        vertical-align: top;\n",
       "    }\n",
       "\n",
       "    .dataframe thead th {\n",
       "        text-align: right;\n",
       "    }\n",
       "</style>\n",
       "<table border=\"1\" class=\"dataframe\">\n",
       "  <thead>\n",
       "    <tr style=\"text-align: right;\">\n",
       "      <th></th>\n",
       "      <th>Date</th>\n",
       "      <th>Close</th>\n",
       "    </tr>\n",
       "  </thead>\n",
       "  <tbody>\n",
       "    <tr>\n",
       "      <th>0</th>\n",
       "      <td>2021-12-01</td>\n",
       "      <td>11.01</td>\n",
       "    </tr>\n",
       "    <tr>\n",
       "      <th>1</th>\n",
       "      <td>2021-12-02</td>\n",
       "      <td>8.75</td>\n",
       "    </tr>\n",
       "    <tr>\n",
       "      <th>2</th>\n",
       "      <td>2021-12-03</td>\n",
       "      <td>8.99</td>\n",
       "    </tr>\n",
       "    <tr>\n",
       "      <th>3</th>\n",
       "      <td>2021-12-06</td>\n",
       "      <td>9.00</td>\n",
       "    </tr>\n",
       "    <tr>\n",
       "      <th>4</th>\n",
       "      <td>2021-12-07</td>\n",
       "      <td>8.85</td>\n",
       "    </tr>\n",
       "    <tr>\n",
       "      <th>...</th>\n",
       "      <td>...</td>\n",
       "      <td>...</td>\n",
       "    </tr>\n",
       "    <tr>\n",
       "      <th>502</th>\n",
       "      <td>2023-11-30</td>\n",
       "      <td>3.04</td>\n",
       "    </tr>\n",
       "    <tr>\n",
       "      <th>503</th>\n",
       "      <td>2023-12-01</td>\n",
       "      <td>3.07</td>\n",
       "    </tr>\n",
       "    <tr>\n",
       "      <th>504</th>\n",
       "      <td>2023-12-04</td>\n",
       "      <td>3.15</td>\n",
       "    </tr>\n",
       "    <tr>\n",
       "      <th>505</th>\n",
       "      <td>2023-12-05</td>\n",
       "      <td>3.14</td>\n",
       "    </tr>\n",
       "    <tr>\n",
       "      <th>506</th>\n",
       "      <td>2023-12-06</td>\n",
       "      <td>3.09</td>\n",
       "    </tr>\n",
       "  </tbody>\n",
       "</table>\n",
       "<p>507 rows × 2 columns</p>\n",
       "</div>"
      ],
      "text/plain": [
       "          Date  Close\n",
       "0   2021-12-01  11.01\n",
       "1   2021-12-02   8.75\n",
       "2   2021-12-03   8.99\n",
       "3   2021-12-06   9.00\n",
       "4   2021-12-07   8.85\n",
       "..         ...    ...\n",
       "502 2023-11-30   3.04\n",
       "503 2023-12-01   3.07\n",
       "504 2023-12-04   3.15\n",
       "505 2023-12-05   3.14\n",
       "506 2023-12-06   3.09\n",
       "\n",
       "[507 rows x 2 columns]"
      ]
     },
     "execution_count": 94,
     "metadata": {},
     "output_type": "execute_result"
    }
   ],
   "source": [
    "\n",
    "\n",
    "df['Date'] = df['Date'].apply(lambda x: str_to_datetime(x))\n",
    "df"
   ]
  },
  {
   "cell_type": "code",
   "execution_count": 95,
   "metadata": {},
   "outputs": [],
   "source": [
    "df.index = df.pop('Date') # pops are set Date as index column\n",
    "#df.index = df.set_index('Date') # pops are set Date as index column"
   ]
  },
  {
   "cell_type": "markdown",
   "metadata": {},
   "source": [
    "### Plot data"
   ]
  },
  {
   "cell_type": "code",
   "execution_count": 96,
   "metadata": {},
   "outputs": [
    {
     "data": {
      "image/png": "[encoded data removed]",
      "text/plain": [
       "<Figure size 640x480 with 1 Axes>"
      ]
     },
     "metadata": {},
     "output_type": "display_data"
    }
   ],
   "source": [
    "plt.plot(df.index, df['Close'])\n",
    "plt.tight_layout()"
   ]
  },
  {
   "cell_type": "markdown",
   "metadata": {},
   "source": [
    "Because using LSTM we will turn it into a supervised problem"
   ]
  },
  {
   "cell_type": "code",
   "execution_count": 98,
   "metadata": {},
   "outputs": [
    {
     "data": {
      "text/html": [
       "<div>\n",
       "<style scoped>\n",
       "    .dataframe tbody tr th:only-of-type {\n",
       "        vertical-align: middle;\n",
       "    }\n",
       "\n",
       "    .dataframe tbody tr th {\n",
       "        vertical-align: top;\n",
       "    }\n",
       "\n",
       "    .dataframe thead th {\n",
       "        text-align: right;\n",
       "    }\n",
       "</style>\n",
       "<table border=\"1\" class=\"dataframe\">\n",
       "  <thead>\n",
       "    <tr style=\"text-align: right;\">\n",
       "      <th></th>\n",
       "      <th>Close</th>\n",
       "      <th>Close(t-1)</th>\n",
       "      <th>Close(t-2)</th>\n",
       "      <th>Close(t-3)</th>\n",
       "      <th>Close(t-4)</th>\n",
       "      <th>Close(t-5)</th>\n",
       "      <th>Close(t-6)</th>\n",
       "      <th>Close(t-7)</th>\n",
       "    </tr>\n",
       "    <tr>\n",
       "      <th>Date</th>\n",
       "      <th></th>\n",
       "      <th></th>\n",
       "      <th></th>\n",
       "      <th></th>\n",
       "      <th></th>\n",
       "      <th></th>\n",
       "      <th></th>\n",
       "      <th></th>\n",
       "    </tr>\n",
       "  </thead>\n",
       "  <tbody>\n",
       "    <tr>\n",
       "      <th>2022-01-05</th>\n",
       "      <td>6.90</td>\n",
       "      <td>7.29</td>\n",
       "      <td>7.22</td>\n",
       "      <td>7.13</td>\n",
       "      <td>7.15</td>\n",
       "      <td>6.96</td>\n",
       "      <td>6.98</td>\n",
       "      <td>7.09</td>\n",
       "    </tr>\n",
       "    <tr>\n",
       "      <th>2022-01-06</th>\n",
       "      <td>6.65</td>\n",
       "      <td>6.90</td>\n",
       "      <td>7.29</td>\n",
       "      <td>7.22</td>\n",
       "      <td>7.13</td>\n",
       "      <td>7.15</td>\n",
       "      <td>6.96</td>\n",
       "      <td>6.98</td>\n",
       "    </tr>\n",
       "    <tr>\n",
       "      <th>2022-01-07</th>\n",
       "      <td>6.81</td>\n",
       "      <td>6.65</td>\n",
       "      <td>6.90</td>\n",
       "      <td>7.29</td>\n",
       "      <td>7.22</td>\n",
       "      <td>7.13</td>\n",
       "      <td>7.15</td>\n",
       "      <td>6.96</td>\n",
       "    </tr>\n",
       "    <tr>\n",
       "      <th>2022-01-10</th>\n",
       "      <td>6.60</td>\n",
       "      <td>6.81</td>\n",
       "      <td>6.65</td>\n",
       "      <td>6.90</td>\n",
       "      <td>7.29</td>\n",
       "      <td>7.22</td>\n",
       "      <td>7.13</td>\n",
       "      <td>7.15</td>\n",
       "    </tr>\n",
       "    <tr>\n",
       "      <th>2022-01-11</th>\n",
       "      <td>6.54</td>\n",
       "      <td>6.60</td>\n",
       "      <td>6.81</td>\n",
       "      <td>6.65</td>\n",
       "      <td>6.90</td>\n",
       "      <td>7.29</td>\n",
       "      <td>7.22</td>\n",
       "      <td>7.13</td>\n",
       "    </tr>\n",
       "    <tr>\n",
       "      <th>...</th>\n",
       "      <td>...</td>\n",
       "      <td>...</td>\n",
       "      <td>...</td>\n",
       "      <td>...</td>\n",
       "      <td>...</td>\n",
       "      <td>...</td>\n",
       "      <td>...</td>\n",
       "      <td>...</td>\n",
       "    </tr>\n",
       "    <tr>\n",
       "      <th>2023-11-22</th>\n",
       "      <td>3.13</td>\n",
       "      <td>3.13</td>\n",
       "      <td>3.23</td>\n",
       "      <td>3.31</td>\n",
       "      <td>3.29</td>\n",
       "      <td>3.42</td>\n",
       "      <td>3.32</td>\n",
       "      <td>3.33</td>\n",
       "    </tr>\n",
       "    <tr>\n",
       "      <th>2023-11-24</th>\n",
       "      <td>3.12</td>\n",
       "      <td>3.13</td>\n",
       "      <td>3.13</td>\n",
       "      <td>3.23</td>\n",
       "      <td>3.31</td>\n",
       "      <td>3.29</td>\n",
       "      <td>3.42</td>\n",
       "      <td>3.32</td>\n",
       "    </tr>\n",
       "    <tr>\n",
       "      <th>2023-11-27</th>\n",
       "      <td>3.06</td>\n",
       "      <td>3.12</td>\n",
       "      <td>3.13</td>\n",
       "      <td>3.13</td>\n",
       "      <td>3.23</td>\n",
       "      <td>3.31</td>\n",
       "      <td>3.29</td>\n",
       "      <td>3.42</td>\n",
       "    </tr>\n",
       "    <tr>\n",
       "      <th>2023-11-28</th>\n",
       "      <td>3.05</td>\n",
       "      <td>3.06</td>\n",
       "      <td>3.12</td>\n",
       "      <td>3.13</td>\n",
       "      <td>3.13</td>\n",
       "      <td>3.23</td>\n",
       "      <td>3.31</td>\n",
       "      <td>3.29</td>\n",
       "    </tr>\n",
       "    <tr>\n",
       "      <th>2023-11-29</th>\n",
       "      <td>3.08</td>\n",
       "      <td>3.05</td>\n",
       "      <td>3.06</td>\n",
       "      <td>3.12</td>\n",
       "      <td>3.13</td>\n",
       "      <td>3.13</td>\n",
       "      <td>3.23</td>\n",
       "      <td>3.31</td>\n",
       "    </tr>\n",
       "  </tbody>\n",
       "</table>\n",
       "<p>478 rows × 8 columns</p>\n",
       "</div>"
      ],
      "text/plain": [
       "            Close  Close(t-1)  Close(t-2)  Close(t-3)  Close(t-4)  Close(t-5)  \\\n",
       "Date                                                                            \n",
       "2022-01-05   6.90        7.29        7.22        7.13        7.15        6.96   \n",
       "2022-01-06   6.65        6.90        7.29        7.22        7.13        7.15   \n",
       "2022-01-07   6.81        6.65        6.90        7.29        7.22        7.13   \n",
       "2022-01-10   6.60        6.81        6.65        6.90        7.29        7.22   \n",
       "2022-01-11   6.54        6.60        6.81        6.65        6.90        7.29   \n",
       "...           ...         ...         ...         ...         ...         ...   \n",
       "2023-11-22   3.13        3.13        3.23        3.31        3.29        3.42   \n",
       "2023-11-24   3.12        3.13        3.13        3.23        3.31        3.29   \n",
       "2023-11-27   3.06        3.12        3.13        3.13        3.23        3.31   \n",
       "2023-11-28   3.05        3.06        3.12        3.13        3.13        3.23   \n",
       "2023-11-29   3.08        3.05        3.06        3.12        3.13        3.13   \n",
       "\n",
       "            Close(t-6)  Close(t-7)  \n",
       "Date                                \n",
       "2022-01-05        6.98        7.09  \n",
       "2022-01-06        6.96        6.98  \n",
       "2022-01-07        7.15        6.96  \n",
       "2022-01-10        7.13        7.15  \n",
       "2022-01-11        7.22        7.13  \n",
       "...                ...         ...  \n",
       "2023-11-22        3.32        3.33  \n",
       "2023-11-24        3.42        3.32  \n",
       "2023-11-27        3.29        3.42  \n",
       "2023-11-28        3.31        3.29  \n",
       "2023-11-29        3.23        3.31  \n",
       "\n",
       "[478 rows x 8 columns]"
      ]
     },
     "execution_count": 98,
     "metadata": {},
     "output_type": "execute_result"
    }
   ],
   "source": [
    "from copy import deepcopy as dc\n",
    "\n",
    "def prepare_dataframe_for_lstm(df, n_steps, first_date_str='2022-01-01', last_date_str='2023-11-29'): \n",
    "    \"\"\" Shift Close price(t-n), then remove all rows whit nan values \"\"\"\n",
    "    \n",
    "    df =dc(df)\n",
    "\n",
    "    if first_date_str and last_date_str: \n",
    "        first_date = str_to_datetime(first_date_str)\n",
    "        first_date = first_date - datetime.timedelta(days= n_steps)\n",
    "        last_date = str_to_datetime(last_date_str)\n",
    "\n",
    "        df = df.loc[first_date:last_date]\n",
    "\n",
    "    for i in range(1, n_steps+1): \n",
    "        df[f'Close(t-{i})'] = df['Close'].shift(i)\n",
    "\n",
    "    df.dropna(inplace=True)\n",
    "    return df\n",
    "\n",
    "lookback = 7\n",
    "shifted_df = prepare_dataframe_for_lstm(df, lookback)\n",
    "shifted_df\n",
    "\n"
   ]
  },
  {
   "cell_type": "code",
   "execution_count": 1,
   "metadata": {},
   "outputs": [
    {
     "ename": "NameError",
     "evalue": "name 'shifted_df' is not defined",
     "output_type": "error",
     "traceback": [
      "\u001b[1;31m---------------------------------------------------------------------------\u001b[0m",
      "\u001b[1;31mNameError\u001b[0m                                 Traceback (most recent call last)",
      "Cell \u001b[1;32mIn[1], line 1\u001b[0m\n\u001b[1;32m----> 1\u001b[0m shifted_df \u001b[38;5;241m=\u001b[39m \u001b[43mshifted_df\u001b[49m\u001b[38;5;241m.\u001b[39mto_numpy() \n\u001b[0;32m      2\u001b[0m \u001b[38;5;28mtype\u001b[39m(shifted_df)\n",
      "\u001b[1;31mNameError\u001b[0m: name 'shifted_df' is not defined"
     ]
    }
   ],
   "source": [
    "shifted_df = shifted_df.to_numpy() \n",
    "type(shifted_df)\n"
   ]
  },
  {
   "cell_type": "markdown",
   "metadata": {},
   "source": [
    "Run Scaler "
   ]
  },
  {
   "cell_type": "code",
   "execution_count": 100,
   "metadata": {},
   "outputs": [
    {
     "data": {
      "text/plain": [
       "array([[ 1.        ,  1.        ,  0.97188748, ...,  0.86746991,\n",
       "         0.87550203,  0.91967879],\n",
       "       [ 0.89106754,  0.84337355,  1.        , ...,  0.94377515,\n",
       "         0.86746991,  0.87550203],\n",
       "       [ 0.96078425,  0.74297194,  0.84337355, ...,  0.93574303,\n",
       "         0.94377515,  0.86746991],\n",
       "       ...,\n",
       "       [-0.67320263, -0.67469882, -0.67068266, ..., -0.59839358,\n",
       "        -0.6064257 , -0.55421682],\n",
       "       [-0.67755992, -0.69879518, -0.67469882, ..., -0.63052206,\n",
       "        -0.59839358, -0.6064257 ],\n",
       "       [-0.66448804, -0.70281124, -0.69879518, ..., -0.67068266,\n",
       "        -0.63052206, -0.59839358]])"
      ]
     },
     "execution_count": 100,
     "metadata": {},
     "output_type": "execute_result"
    }
   ],
   "source": [
    "from sklearn.preprocessing import MinMaxScaler\n",
    "\n",
    "scaler = MinMaxScaler(feature_range=(-1, 1)) # Scale features between -1 and 1\n",
    "shifted_df = scaler.fit_transform(shifted_df)\n",
    "shifted_df"
   ]
  },
  {
   "cell_type": "code",
   "execution_count": 101,
   "metadata": {},
   "outputs": [
    {
     "data": {
      "text/plain": [
       "((478, 7), (478,), numpy.ndarray)"
      ]
     },
     "execution_count": 101,
     "metadata": {},
     "output_type": "execute_result"
    }
   ],
   "source": [
    "X = shifted_df[:, 1:]\n",
    "y = shifted_df[:, 0]\n",
    "\n",
    "X.shape, y.shape, type(X)"
   ]
  },
  {
   "cell_type": "code",
   "execution_count": 102,
   "metadata": {},
   "outputs": [],
   "source": [
    "X = dc(np.flip(X, axis=1)) # flip because need sequence from \"old\" to \"new\"\n"
   ]
  },
  {
   "cell_type": "code",
   "execution_count": 103,
   "metadata": {},
   "outputs": [
    {
     "data": {
      "text/plain": [
       "430"
      ]
     },
     "execution_count": 103,
     "metadata": {},
     "output_type": "execute_result"
    }
   ],
   "source": [
    "split_index = int(len(X) * .9)\n",
    "split_index"
   ]
  },
  {
   "cell_type": "code",
   "execution_count": 104,
   "metadata": {},
   "outputs": [
    {
     "data": {
      "text/plain": [
       "((430, 7, 1), (48, 7, 1), (430, 1), (48, 1))"
      ]
     },
     "execution_count": 104,
     "metadata": {},
     "output_type": "execute_result"
    }
   ],
   "source": [
    "X_train = X[:split_index].reshape(-1, lookback, 1)\n",
    "X_test = X[split_index:].reshape(-1, lookback, 1)\n",
    "\n",
    "y_train = y[:split_index].reshape(-1, 1)\n",
    "y_test = y[split_index:].reshape(-1, 1)\n",
    "\n",
    "\n",
    "X_train.shape, X_test.shape, y_train.shape, y_test.shape\n"
   ]
  },
  {
   "cell_type": "code",
   "execution_count": 105,
   "metadata": {},
   "outputs": [],
   "source": [
    "import torch \n",
    "\n",
    "X_train = torch.tensor(X_train).float()\n",
    "X_test = torch.tensor(X_test).float()\n",
    "\n",
    "y_train = torch.tensor(y_train).float()\n",
    "y_test = torch.tensor(y_test).float()\n"
   ]
  },
  {
   "cell_type": "code",
   "execution_count": 106,
   "metadata": {},
   "outputs": [],
   "source": [
    "from torch.utils.data import Dataset \n",
    "\n",
    "\n",
    "\n",
    "class TimeSeriesDataset(Dataset): \n",
    "\n",
    "    def __init__(self, data, label):\n",
    "        self.data = data\n",
    "        self.label = label \n",
    "        \n",
    "    def __len__(self): \n",
    "        return len(self.label)\n",
    "\n",
    "    def __getitem__(self, index): \n",
    "        return self.data[index], self.label[index]\n",
    "\n",
    "train_dataset = TimeSeriesDataset(X_train, y_train)\n",
    "test_dataset = TimeSeriesDataset(X_test, y_test)"
   ]
  },
  {
   "cell_type": "code",
   "execution_count": 107,
   "metadata": {},
   "outputs": [],
   "source": [
    "from torch.utils.data import DataLoader\n",
    "\n",
    "batch_size = 8\n",
    "train_dataloader = DataLoader(train_dataset, batch_size=batch_size, shuffle=True)\n",
    "test_dataloader = DataLoader(test_dataset, batch_size=batch_size, shuffle=False)\n",
    "\n",
    "\n",
    "device = torch.device('cuda') if torch.cuda.is_available() else torch.device('cpu')"
   ]
  },
  {
   "cell_type": "code",
   "execution_count": 108,
   "metadata": {},
   "outputs": [
    {
     "name": "stdout",
     "output_type": "stream",
     "text": [
      "torch.Size([8, 7, 1]) torch.Size([8, 1])\n"
     ]
    }
   ],
   "source": [
    "for _, batch in enumerate(train_dataloader): \n",
    "    x_batch, y_batch = batch[0].to(device), batch[1].to(device)\n",
    "    print(x_batch.shape, y_batch.shape)\n",
    "    break "
   ]
  },
  {
   "cell_type": "code",
   "execution_count": 109,
   "metadata": {},
   "outputs": [],
   "source": [
    "import torch.nn as nn \n",
    "\n",
    "class LSTM_stock(nn.Module): \n",
    "    def __init__(self, input_size, hidden_size, num_stacked_layers,output_size=1):\n",
    "        super().__init__()\n",
    "        self.hidden_size = hidden_size\n",
    "        self.num_stacked_layers = num_stacked_layers\n",
    "\n",
    "        self.lstm = nn.LSTM(input_size, hidden_size, self.num_stacked_layers, batch_first=True)\n",
    "        self.fc1 = nn.Linear(hidden_size, output_size)\n",
    "\n",
    "    def forward(self, x):  \n",
    "        batch_size = x.size(0)\n",
    "        h0 = torch.zeros(self.num_stacked_layers, batch_size, self.hidden_size).to(device)\n",
    "        c0 = torch.zeros(self.num_stacked_layers, batch_size, self.hidden_size).to(device)\n",
    "        out, _ = self.lstm(x, (h0, c0))\n",
    "        out = self.fc1(out[:, -1, :])\n",
    "        return out\n",
    "\n",
    "\n"
   ]
  },
  {
   "cell_type": "code",
   "execution_count": 110,
   "metadata": {},
   "outputs": [
    {
     "data": {
      "text/plain": [
       "LSTM_stock(\n",
       "  (lstm): LSTM(1, 4, batch_first=True)\n",
       "  (fc1): Linear(in_features=4, out_features=1, bias=True)\n",
       ")"
      ]
     },
     "execution_count": 110,
     "metadata": {},
     "output_type": "execute_result"
    }
   ],
   "source": [
    "model = LSTM_stock(1,4,1)\n",
    "model.to(device)\n"
   ]
  },
  {
   "cell_type": "code",
   "execution_count": 111,
   "metadata": {},
   "outputs": [],
   "source": [
    "from tqdm import tqdm \n",
    "\n",
    "def train_one_epoch(epoch, loss_function, optimizer): \n",
    "    model.train(True)\n",
    "    print(f'Epoch: {epoch + 1}')\n",
    "    running_loss = 0.0\n",
    "\n",
    "    for batch_index, batch in (enumerate(train_dataloader)): \n",
    "        x_batch, y_batch = batch[0].to(device), batch[1].to(device)\n",
    "\n",
    "        output = model(x_batch)\n",
    "        loss = loss_function(output, y_batch)\n",
    "\n",
    "        running_loss += loss.item()\n",
    "\n",
    "        optimizer.zero_grad()\n",
    "        loss.backward()\n",
    "        optimizer.step()\n",
    "\n",
    "        if batch_index % 100 == 99: # Print every 100 batch \n",
    "            avg_loss_across_batches = running_loss / 100\n",
    "            print(f'Batch {batch_index + 1}, Loss {avg_loss_across_batches:0.2f}')\n",
    "\n",
    "          \n",
    "            running_loss  = 0.0\n",
    "\n",
    "        \n",
    "        "
   ]
  },
  {
   "cell_type": "code",
   "execution_count": 112,
   "metadata": {},
   "outputs": [],
   "source": [
    "from tqdm import tqdm \n",
    "\n",
    "\n",
    "def validate_one_epoch(epoch, loss_function): \n",
    "    model.train(False)\n",
    "    running_loss = 0.0\n",
    "\n",
    "    for batch_index, batch in (enumerate(test_dataloader)): \n",
    "        x_batch, y_batch = batch[0].to(device), batch[1].to(device)\n",
    "\n",
    "        with torch.no_grad(): \n",
    "            output = model(x_batch)\n",
    "            loss = loss_function(output, y_batch)\n",
    "            running_loss += loss.item()\n",
    "    \n",
    "\n",
    "    avg_loss_across_batches = running_loss / len(test_dataloader)\n",
    "\n",
    "    print(f'Val Loss {avg_loss_across_batches:0.2f}')\n",
    "    print('****************************************')\n",
    "    print()\n",
    "        \n",
    "        "
   ]
  },
  {
   "cell_type": "code",
   "execution_count": 113,
   "metadata": {},
   "outputs": [
    {
     "name": "stdout",
     "output_type": "stream",
     "text": [
      "Epoch: 1\n"
     ]
    },
    {
     "name": "stdout",
     "output_type": "stream",
     "text": [
      "Val Loss 0.00\n",
      "****************************************\n",
      "\n",
      "Epoch: 2\n",
      "Val Loss 0.00\n",
      "****************************************\n",
      "\n",
      "Epoch: 3\n",
      "Val Loss 0.00\n",
      "****************************************\n",
      "\n",
      "Epoch: 4\n",
      "Val Loss 0.00\n",
      "****************************************\n",
      "\n",
      "Epoch: 5\n",
      "Val Loss 0.00\n",
      "****************************************\n",
      "\n",
      "Epoch: 6\n",
      "Val Loss 0.01\n",
      "****************************************\n",
      "\n",
      "Epoch: 7\n",
      "Val Loss 0.00\n",
      "****************************************\n",
      "\n",
      "Epoch: 8\n",
      "Val Loss 0.00\n",
      "****************************************\n",
      "\n",
      "Epoch: 9\n",
      "Val Loss 0.00\n",
      "****************************************\n",
      "\n",
      "Epoch: 10\n",
      "Val Loss 0.00\n",
      "****************************************\n",
      "\n"
     ]
    }
   ],
   "source": [
    "learning_rate = 00.1\n",
    "num_epochs = 10 \n",
    "loss_function = nn.MSELoss()\n",
    "optimizer = torch.optim.Adam(model.parameters(), lr=learning_rate)\n",
    "\n",
    "for epoch in range(num_epochs): \n",
    "    train_one_epoch(epoch, loss_function, optimizer)\n",
    "    validate_one_epoch(epoch, loss_function)\n"
   ]
  },
  {
   "cell_type": "code",
   "execution_count": 114,
   "metadata": {},
   "outputs": [
    {
     "data": {
      "text/plain": [
       "torch.Size([430, 7, 1])"
      ]
     },
     "execution_count": 114,
     "metadata": {},
     "output_type": "execute_result"
    }
   ],
   "source": [
    "X_train.shape"
   ]
  },
  {
   "cell_type": "code",
   "execution_count": 121,
   "metadata": {},
   "outputs": [
    {
     "data": {
      "image/png": "[encoded data removed]",
      "text/plain": [
       "<Figure size 640x480 with 1 Axes>"
      ]
     },
     "metadata": {},
     "output_type": "display_data"
    }
   ],
   "source": [
    "with torch.no_grad(): \n",
    "    predicted = model(X_train.to(device)).to('cpu').numpy()\n",
    "\n",
    "plt.plot(y_train, label='Actual Close')\n",
    "plt.plot(predicted, label='Predicted CLose')\n",
    "plt.xlabel('Day')\n",
    "plt.ylabel('Close')\n",
    "plt.legend()\n",
    "plt.show()"
   ]
  },
  {
   "cell_type": "code",
   "execution_count": 130,
   "metadata": {},
   "outputs": [
    {
     "data": {
      "text/plain": [
       "array([6.83731075, 6.66754764, 6.45650091, 6.50956401, 6.39249781,\n",
       "       6.32099054, 6.08741706, 5.94444246, 5.87374213, 5.29944727,\n",
       "       5.61789717, 5.73768227, 5.39549706, 5.47028605, 5.67308467,\n",
       "       5.74980729, 5.52067568, 5.36020503, 5.56889947, 5.52324896,\n",
       "       5.30709863, 4.70293114, 5.46215626, 5.09402265, 5.13727204,\n",
       "       5.50784706, 6.01358295, 5.67071938, 5.78417549, 5.79345578,\n",
       "       5.85958765, 5.61206235, 5.35343037, 4.97515618, 5.32132383,\n",
       "       5.37687041, 5.67539687, 5.55932563, 5.35564922, 5.04123234,\n",
       "       3.16426288, 3.2246273 , 3.21370249, 3.08275128, 2.99060076,\n",
       "       3.16249019, 2.98799391, 2.88093997, 2.88724652, 3.52889707,\n",
       "       3.71128765, 4.15933868, 3.60671711, 3.63989528, 3.56782956,\n",
       "       3.47964459, 3.1186666 , 3.33594575, 4.0170618 , 3.28536242,\n",
       "       3.3818747 , 3.31918386, 4.0426172 , 3.42929456, 3.46770765,\n",
       "       3.31366673, 3.52855351, 3.34845352, 3.24179519, 3.36357814,\n",
       "       3.03376747, 2.90780098, 3.17214925, 2.87787239, 2.74640438,\n",
       "       2.72520562, 2.73112437, 2.62664281, 2.60791932, 2.71626718,\n",
       "       2.8067346 , 2.96762384, 3.00588488, 3.03523306, 2.89092761,\n",
       "       2.86921601, 2.70434077, 2.64743694, 2.49976967, 2.57519715,\n",
       "       2.67960743, 2.54018137, 2.60458513, 2.50051232, 2.99535253,\n",
       "       3.07018386, 2.7852535 , 2.54741975, 2.43292115, 2.35992626,\n",
       "       2.37485841, 2.51812998, 2.52464774, 2.53717727, 2.48941925,\n",
       "       2.53460871, 2.55191832, 2.90460906, 2.77304106, 2.63285484,\n",
       "       2.45959134, 2.42285211, 2.43783091, 2.37421958, 2.34566535,\n",
       "       2.55880364, 2.50653243, 2.60548523, 2.74223357, 2.61679976,\n",
       "       2.49729017, 2.48378449, 2.4703851 , 2.39602242, 2.55761888,\n",
       "       2.48501166, 2.52719072, 2.46669758, 2.39891353, 2.4357834 ,\n",
       "       2.44214467, 2.43370579, 2.43617804, 2.58291211, 2.6814083 ,\n",
       "       2.75127502, 2.791777  , 2.64882552, 2.6385156 , 2.74555558,\n",
       "       2.79149138, 2.82955189, 2.81444669, 2.75615524, 2.95605679,\n",
       "       3.18049484, 3.58742764, 3.73447394, 3.57734335, 3.38835909,\n",
       "       3.60964051, 3.64954737, 3.77121234, 3.60572338, 3.50992912,\n",
       "       3.41676395, 3.36206398, 3.28649123, 3.25212672, 3.34784206,\n",
       "       3.50338838, 2.99549479, 2.90698515, 2.85225879, 2.91555863,\n",
       "       2.74396769, 2.74034857, 2.81688721, 2.77247529, 2.91427073,\n",
       "       2.94608788, 3.00636543, 3.27728426, 2.94218218, 2.90642923,\n",
       "       2.81882255, 2.83936909, 2.99923238, 2.82458796, 2.7265834 ,\n",
       "       2.61913755, 2.63362211, 2.68054049, 2.62484659, 2.67876397,\n",
       "       2.5319827 , 2.5377098 , 2.58456649, 2.76588133, 2.73671549,\n",
       "       2.86331957, 2.71093062, 2.60399761, 2.5201407 , 2.45423892,\n",
       "       2.4316498 , 2.38881851, 2.40771245, 2.43391112, 2.38565367,\n",
       "       2.37024165, 2.35707933, 2.3326327 , 2.36184368, 2.43071619,\n",
       "       2.42610053, 2.4602846 , 2.50380711, 2.53873821, 2.59179666,\n",
       "       2.65906692, 2.69992319, 2.79600978, 2.6889739 , 2.54896674,\n",
       "       2.56630193, 2.78197034, 2.82093258, 2.98885488, 3.00496564,\n",
       "       3.07901356, 3.0623228 , 2.84293445, 2.78142303, 2.81065425,\n",
       "       2.82179807, 2.6987268 , 2.70411835, 2.87162616, 2.9265595 ,\n",
       "       3.01799992, 2.95423279, 2.87154806, 2.80833589, 2.9148521 ,\n",
       "       2.87979063, 3.0086719 , 3.07900384, 3.17606973, 3.04507065,\n",
       "       3.04307853, 2.87420389, 2.85066857, 2.97708045, 2.91714816,\n",
       "       3.14625508, 3.15562497, 2.9976051 , 3.06789053, 3.07392719,\n",
       "       3.37491168, 3.35879778, 3.3372    , 3.32912868, 3.69410793,\n",
       "       3.5621303 , 3.45583097, 3.48561922, 3.43605472, 4.07417352,\n",
       "       3.43883462, 3.46517514, 3.58248942, 3.62986359, 3.42377142,\n",
       "       3.59686996, 3.47089677, 3.62582746, 3.57121545, 3.71016677,\n",
       "       3.55747141, 3.48339832, 3.39746975, 3.3039312 , 3.37573463,\n",
       "       3.50922122, 3.25907306, 3.17511683, 3.23457335, 3.36540158,\n",
       "       3.6175528 , 3.5184578 , 3.30434842, 3.24937158, 3.38904784,\n",
       "       3.04131391, 2.95321341, 3.02687626, 3.06628719, 2.95332257,\n",
       "       3.05995451, 3.14272679, 2.98868225, 2.96384316, 3.01592738,\n",
       "       2.85699975, 2.7373788 , 2.73198384, 2.77260428, 2.72911338,\n",
       "       2.716036  , 2.73012236, 2.6797869 , 2.73362959, 2.6734679 ,\n",
       "       2.6430831 , 2.59224753, 2.64359526, 2.71348837, 2.87254801,\n",
       "       2.74007375, 2.8628806 , 2.94639184, 3.00652959, 2.97376938,\n",
       "       2.88963711, 2.91588721, 2.84457418, 2.84968996, 2.87755216,\n",
       "       2.80914653, 2.83004174, 2.84939572, 2.90611844, 2.87042827,\n",
       "       2.80030589, 2.78664659, 2.67372151, 2.6496865 , 2.66781057,\n",
       "       2.7663203 , 2.80173236, 2.8040391 , 2.7475046 , 2.83535846,\n",
       "       2.87747542, 3.24362027, 3.03108428, 3.04385579, 3.06481885,\n",
       "       3.02142042, 3.14686778, 3.00751914, 3.0783798 , 2.69666315,\n",
       "       2.64841898, 2.90995615, 2.87128008, 2.90627287, 2.86150269,\n",
       "       2.89647578, 2.79439877, 2.83795301, 2.84095356, 2.87728377,\n",
       "       2.96642786, 3.09390316, 3.0936687 , 3.28785369, 3.30130971,\n",
       "       3.2986718 , 3.3118266 , 3.24773144, 3.30957568, 3.27219421,\n",
       "       3.23070595, 3.2498245 , 3.17601022, 3.04505874, 3.05367395,\n",
       "       3.13147888, 3.10094128, 3.2731958 , 3.29165146, 3.28806913,\n",
       "       3.28876158, 3.15979168, 3.17673988, 3.33787165, 3.44927491,\n",
       "       3.5734371 , 3.57516705, 3.46481367, 3.49702649, 3.34387849,\n",
       "       3.37963787, 3.55189478, 3.44402194, 3.47521668, 3.42557558,\n",
       "       3.55193651, 3.45737441, 3.70826583, 3.71602081, 3.66937041,\n",
       "       3.49065777, 3.55969812, 3.41608491, 3.46896061, 3.52313953,\n",
       "       3.41291898, 3.44260942, 3.34354294, 3.35346547, 3.24050523,\n",
       "       3.14387161, 3.11047614, 3.09185114, 3.1272435 , 3.20552434,\n",
       "       3.70837868, 3.47704724, 3.60933423, 3.54912891, 3.68847617,\n",
       "       3.59267651, 3.67116875, 3.73107772, 3.67748078, 3.51433774,\n",
       "       3.63974563, 3.58033309, 3.63069057, 3.68618859, 3.32731933,\n",
       "       3.38390252, 3.42265779, 3.38639433, 3.34367973, 3.31504889])"
      ]
     },
     "execution_count": 130,
     "metadata": {},
     "output_type": "execute_result"
    }
   ],
   "source": [
    "train_predictions = predicted.flatten()\n",
    "\n",
    "dummies = np.zeros((X_train.shape[0], lookback+1))\n",
    "\n",
    "dummies[:, 0] = train_predictions \n",
    "dummies = scaler.inverse_transform(dummies)\n",
    "train_predictions = dc(dummies[:, 0])\n",
    "train_predictions"
   ]
  },
  {
   "cell_type": "code",
   "execution_count": 129,
   "metadata": {},
   "outputs": [
    {
     "name": "stdout",
     "output_type": "stream",
     "text": [
      "torch.Size([430, 1])\n"
     ]
    },
    {
     "data": {
      "text/plain": [
       "(430,)"
      ]
     },
     "execution_count": 129,
     "metadata": {},
     "output_type": "execute_result"
    }
   ],
   "source": [
    "dummies = np.zeros((X_train.shape[0], lookback+1))\n",
    "print(y_train.shape)\n",
    "\n",
    "dummies[:, 0] = y_train.flatten() \n",
    "dummies = scaler.inverse_transform(dummies)\n",
    "\n",
    "new_y_train = dc(dummies[:, 0])\n",
    "new_y_train.shape"
   ]
  },
  {
   "cell_type": "code",
   "execution_count": 133,
   "metadata": {},
   "outputs": [
    {
     "data": {
      "image/png": "[encoded data removed]",
      "text/plain": [
       "<Figure size 640x480 with 1 Axes>"
      ]
     },
     "metadata": {},
     "output_type": "display_data"
    }
   ],
   "source": [
    "plt.plot(new_y_train, label='Actual Close')\n",
    "plt.plot(train_predictions, label='Predicted CLose')\n",
    "plt.xlabel('Day')\n",
    "plt.ylabel('Close')\n",
    "plt.legend()\n",
    "plt.show()"
   ]
  },
  {
   "cell_type": "code",
   "execution_count": 142,
   "metadata": {},
   "outputs": [
    {
     "data": {
      "text/plain": [
       "48"
      ]
     },
     "execution_count": 142,
     "metadata": {},
     "output_type": "execute_result"
    }
   ],
   "source": [
    "y_test.shape[0]\n"
   ]
  },
  {
   "cell_type": "code",
   "execution_count": 144,
   "metadata": {},
   "outputs": [
    {
     "name": "stdout",
     "output_type": "stream",
     "text": [
      "(48,)\n"
     ]
    },
    {
     "data": {
      "image/png": "[encoded data removed]",
      "text/plain": [
       "<Figure size 640x480 with 1 Axes>"
      ]
     },
     "metadata": {},
     "output_type": "display_data"
    }
   ],
   "source": [
    "with torch.no_grad(): \n",
    "    predicted = model(X_test.to(device)).to('cpu').numpy().flatten()\n",
    "\n",
    "\n",
    "\n",
    "print(predicted.shape)\n",
    "dummies = np.zeros((X_test.shape[0], lookback + 1))\n",
    "dummies[:, 0] = predicted\n",
    "dummies = scaler.inverse_transform(dummies)\n",
    "\n",
    "new_predicted = dc(dummies[:, 0])\n",
    "\n",
    "\n",
    "dummies = np.zeros((X_test.shape[0], lookback + 1))\n",
    "dummies[:, 0] = y_test.flatten()\n",
    "dummies = scaler.inverse_transform(dummies)\n",
    "\n",
    "\n",
    "new_test = dc(dummies[:, 0])\n",
    "\n",
    "plt.plot(new_test, label='Actual Close')\n",
    "plt.plot(new_predicted, label='Predicted CLose')\n",
    "plt.xlabel('Day')\n",
    "plt.ylabel('Close')\n",
    "plt.legend()\n",
    "plt.show()"
   ]
  },
  {
   "cell_type": "code",
   "execution_count": 19,
   "metadata": {},
   "outputs": [
    {
     "name": "stdout",
     "output_type": "stream",
     "text": [
      "<class 'numpy.ndarray'>\n",
      "<class 'numpy.ndarray'>\n"
     ]
    }
   ],
   "source": [
    "print(type(dates_train))\n",
    "print(type(y_train))"
   ]
  },
  {
   "cell_type": "markdown",
   "metadata": {},
   "source": [
    "LSTM have consist of an input, hidden state and a cell state.\n",
    "\n",
    "Forget gate decide how much of previous cell state (long term memory) carried on (C o f)\n",
    "\n",
    "Update gate for updating cell state, output gate for updating values of hidden (short term memry) units. \n",
    "\n"
   ]
  }
 ],
 "metadata": {
  "kernelspec": {
   "display_name": "kaggle_env",
   "language": "python",
   "name": "python3"
  },
  "language_info": {
   "codemirror_mode": {
    "name": "ipython",
    "version": 3
   },
   "file_extension": ".py",
   "mimetype": "text/x-python",
   "name": "python",
   "nbconvert_exporter": "python",
   "pygments_lexer": "ipython3",
   "version": "3.11.4"
  }
 },
 "nbformat": 4,
 "nbformat_minor": 2
}
